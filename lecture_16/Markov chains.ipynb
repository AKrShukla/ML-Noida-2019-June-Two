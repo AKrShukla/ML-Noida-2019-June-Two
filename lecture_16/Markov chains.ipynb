{
 "cells": [
  {
   "cell_type": "code",
   "execution_count": 49,
   "metadata": {},
   "outputs": [],
   "source": [
    "import numpy as np\n",
    "import random"
   ]
  },
  {
   "cell_type": "code",
   "execution_count": 2,
   "metadata": {},
   "outputs": [],
   "source": [
    "file = open(\"../datasets/speeches/speech.txt\", \"r\", encoding=\"utf-8\")"
   ]
  },
  {
   "cell_type": "code",
   "execution_count": 3,
   "metadata": {},
   "outputs": [],
   "source": [
    "text = file.read()"
   ]
  },
  {
   "cell_type": "code",
   "execution_count": 4,
   "metadata": {},
   "outputs": [
    {
     "data": {
      "text/plain": [
       "1725021"
      ]
     },
     "execution_count": 4,
     "metadata": {},
     "output_type": "execute_result"
    }
   ],
   "source": [
    "len(text)"
   ]
  },
  {
   "cell_type": "code",
   "execution_count": 68,
   "metadata": {},
   "outputs": [],
   "source": [
    "model = {}"
   ]
  },
  {
   "cell_type": "code",
   "execution_count": 69,
   "metadata": {},
   "outputs": [],
   "source": [
    "k = 8"
   ]
  },
  {
   "cell_type": "code",
   "execution_count": 70,
   "metadata": {},
   "outputs": [],
   "source": [
    "for i in range(len(text) - k):\n",
    "    cut = text[i:i+k]\n",
    "    ch = text[i+k]\n",
    "    \n",
    "    if cut not in model:\n",
    "        model[cut] = {}\n",
    "    \n",
    "    if ch not in model[cut]:\n",
    "        model[cut][ch] = 1\n",
    "    else:\n",
    "        model[cut][ch] += 1\n"
   ]
  },
  {
   "cell_type": "code",
   "execution_count": 71,
   "metadata": {},
   "outputs": [],
   "source": [
    "generated = \"Through centuries\""
   ]
  },
  {
   "cell_type": "code",
   "execution_count": 72,
   "metadata": {},
   "outputs": [],
   "source": [
    "for i in range(500):\n",
    "    cut = generated[-k:]\n",
    "    freq_list = np.array(list(model[cut].items()))\n",
    "    top_three = np.argsort(freq_list[:, 1])[-3:]\n",
    "    random_index = random.choice(top_three)\n",
    "    selected = freq_list[random_index, 0]\n",
    "    generated += selected"
   ]
  },
  {
   "cell_type": "code",
   "execution_count": 73,
   "metadata": {},
   "outputs": [
    {
     "name": "stdout",
     "output_type": "stream",
     "text": [
      "Through centuries, and today where 40 out of sync with time phases. He himself.\n",
      "This is both nations; they are. I will harnessed some different. And at last, he has studied in that, through.\n",
      "GST has been both - a destiny.\n",
      "I am pleased, showcasing more, though he has the images. The points, we are living together.\n",
      "I am spelling bee champions.\n",
      "This gives us motivate manufacturing. We had ever asked ourselves, \n",
      "A creed echoed in that financing, while miracle and due to it, and diversified economists. Economists. Ec\n"
     ]
    }
   ],
   "source": [
    "print(generated)"
   ]
  },
  {
   "cell_type": "code",
   "execution_count": 46,
   "metadata": {},
   "outputs": [],
   "source": []
  },
  {
   "cell_type": "code",
   "execution_count": 48,
   "metadata": {},
   "outputs": [
    {
     "data": {
      "text/plain": [
       "6"
      ]
     },
     "execution_count": 48,
     "metadata": {},
     "output_type": "execute_result"
    }
   ],
   "source": [
    "random.choice([6, 7])"
   ]
  },
  {
   "cell_type": "code",
   "execution_count": 1,
   "metadata": {},
   "outputs": [
    {
     "name": "stdout",
     "output_type": "stream",
     "text": [
      "[master e5435b3] l 16\n",
      " 3 files changed, 334 insertions(+)\n",
      " create mode 100644 lecture_16/.ipynb_checkpoints/Markov chains-checkpoint.ipynb\n",
      " create mode 100644 lecture_16/Markov chains.ipynb\n",
      " create mode 100644 lecture_16/README.md\n",
      "Enumerating objects: 5, done.\n",
      "Counting objects: 100% (5/5), done.\n",
      "Delta compression using up to 4 threads.\n",
      "Compressing objects: 100% (4/4), done.\n",
      "Writing objects: 100% (4/4), 463 bytes | 463.00 KiB/s, done.\n",
      "Total 4 (delta 1), reused 0 (delta 0)\n",
      "remote: Resolving deltas: 100% (1/1), completed with 1 local object.\u001b[K\n",
      "To https://github.com/coding-blocks-archives/ML-Noida-2019-June-Two.git\n",
      "   d0b5098..e5435b3  master -> master\n"
     ]
    }
   ],
   "source": [
    "! push \"l 16\""
   ]
  },
  {
   "cell_type": "code",
   "execution_count": null,
   "metadata": {},
   "outputs": [],
   "source": []
  }
 ],
 "metadata": {
  "kernelspec": {
   "display_name": "Python 3",
   "language": "python",
   "name": "python3"
  },
  "language_info": {
   "codemirror_mode": {
    "name": "ipython",
    "version": 3
   },
   "file_extension": ".py",
   "mimetype": "text/x-python",
   "name": "python",
   "nbconvert_exporter": "python",
   "pygments_lexer": "ipython3",
   "version": "3.7.2"
  }
 },
 "nbformat": 4,
 "nbformat_minor": 2
}
