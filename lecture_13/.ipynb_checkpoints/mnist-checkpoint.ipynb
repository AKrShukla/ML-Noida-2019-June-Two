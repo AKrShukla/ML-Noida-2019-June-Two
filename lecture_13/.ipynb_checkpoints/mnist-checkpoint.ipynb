{
 "cells": [
  {
   "cell_type": "code",
   "execution_count": 70,
   "metadata": {},
   "outputs": [],
   "source": [
    "from keras.models import Sequential\n",
    "from keras.layers import Dense\n",
    "\n",
    "from keras.optimizers import Adam\n",
    "from keras.losses import categorical_crossentropy\n",
    "\n",
    "import numpy as np\n",
    "import matplotlib.pyplot as plt\n",
    "from sklearn.datasets import make_blobs\n",
    "from sklearn.model_selection import train_test_split\n",
    "from sklearn.preprocessing import OneHotEncoder"
   ]
  },
  {
   "cell_type": "code",
   "execution_count": 92,
   "metadata": {},
   "outputs": [],
   "source": [
    "X, y = make_blobs(1000, centers=4, random_state=42)"
   ]
  },
  {
   "cell_type": "code",
   "execution_count": 93,
   "metadata": {},
   "outputs": [
    {
     "data": {
      "text/plain": [
       "<matplotlib.collections.PathCollection at 0x134c066d8>"
      ]
     },
     "execution_count": 93,
     "metadata": {},
     "output_type": "execute_result"
    },
    {
     "data": {
      "image/png": "[encoded data removed]",
      "text/plain": [
       "<Figure size 432x288 with 1 Axes>"
      ]
     },
     "metadata": {
      "needs_background": "light"
     },
     "output_type": "display_data"
    }
   ],
   "source": [
    "plt.scatter(X[:, 0], X[:, 1], c=y)"
   ]
  },
  {
   "cell_type": "code",
   "execution_count": 94,
   "metadata": {},
   "outputs": [],
   "source": [
    "ohe = OneHotEncoder(categories=\"auto\")"
   ]
  },
  {
   "cell_type": "code",
   "execution_count": 106,
   "metadata": {},
   "outputs": [
    {
     "data": {
      "text/plain": [
       "[array([0, 1, 2, 3])]"
      ]
     },
     "execution_count": 106,
     "metadata": {},
     "output_type": "execute_result"
    }
   ],
   "source": [
    "ohe.categories_"
   ]
  },
  {
   "cell_type": "code",
   "execution_count": 95,
   "metadata": {},
   "outputs": [],
   "source": [
    "y_hot = ohe.fit_transform(y.reshape(-1, 1)).todense()"
   ]
  },
  {
   "cell_type": "code",
   "execution_count": 96,
   "metadata": {},
   "outputs": [],
   "source": [
    "X_train, X_test, y_train, y_test = train_test_split(\n",
    "...     X, y_hot, test_size=0.33, random_state=42)"
   ]
  },
  {
   "cell_type": "code",
   "execution_count": 107,
   "metadata": {},
   "outputs": [],
   "source": [
    "hidden = Dense(5, activation=\"relu\", input_shape=(2,))\n",
    "out = Dense(4, activation=\"softmax\")"
   ]
  },
  {
   "cell_type": "code",
   "execution_count": 108,
   "metadata": {},
   "outputs": [
    {
     "name": "stdout",
     "output_type": "stream",
     "text": [
      "_________________________________________________________________\n",
      "Layer (type)                 Output Shape              Param #   \n",
      "=================================================================\n",
      "dense_17 (Dense)             (None, 5)                 15        \n",
      "_________________________________________________________________\n",
      "dense_18 (Dense)             (None, 4)                 24        \n",
      "=================================================================\n",
      "Total params: 39\n",
      "Trainable params: 39\n",
      "Non-trainable params: 0\n",
      "_________________________________________________________________\n"
     ]
    }
   ],
   "source": [
    "model = Sequential()\n",
    "model.add(hidden)\n",
    "model.add(out)\n",
    "model.summary()"
   ]
  },
  {
   "cell_type": "code",
   "execution_count": 109,
   "metadata": {},
   "outputs": [],
   "source": [
    "model.compile(optimizer=\"adam\", loss=\"categorical_crossentropy\", metrics=[\"accuracy\"])"
   ]
  },
  {
   "cell_type": "code",
   "execution_count": 102,
   "metadata": {},
   "outputs": [
    {
     "name": "stdout",
     "output_type": "stream",
     "text": [
      "Epoch 1/50\n",
      "670/670 [==============================] - 0s 19us/step - loss: 0.6654 - acc: 0.5015\n",
      "Epoch 2/50\n",
      "670/670 [==============================] - 0s 10us/step - loss: 0.6618 - acc: 0.5015\n",
      "Epoch 3/50\n",
      "670/670 [==============================] - 0s 15us/step - loss: 0.6581 - acc: 0.5030\n",
      "Epoch 4/50\n",
      "670/670 [==============================] - 0s 20us/step - loss: 0.6546 - acc: 0.5030\n",
      "Epoch 5/50\n",
      "670/670 [==============================] - 0s 20us/step - loss: 0.6510 - acc: 0.5045\n",
      "Epoch 6/50\n",
      "670/670 [==============================] - 0s 25us/step - loss: 0.6476 - acc: 0.5090\n",
      "Epoch 7/50\n",
      "670/670 [==============================] - 0s 14us/step - loss: 0.6441 - acc: 0.5104\n",
      "Epoch 8/50\n",
      "670/670 [==============================] - 0s 19us/step - loss: 0.6408 - acc: 0.6582\n",
      "Epoch 9/50\n",
      "670/670 [==============================] - 0s 10us/step - loss: 0.6374 - acc: 0.6657\n",
      "Epoch 10/50\n",
      "670/670 [==============================] - 0s 21us/step - loss: 0.6341 - acc: 0.6761\n",
      "Epoch 11/50\n",
      "670/670 [==============================] - 0s 16us/step - loss: 0.6309 - acc: 0.6791\n",
      "Epoch 12/50\n",
      "670/670 [==============================] - 0s 11us/step - loss: 0.6277 - acc: 0.6881\n",
      "Epoch 13/50\n",
      "670/670 [==============================] - 0s 14us/step - loss: 0.6246 - acc: 0.6910\n",
      "Epoch 14/50\n",
      "670/670 [==============================] - 0s 17us/step - loss: 0.6215 - acc: 0.7000\n",
      "Epoch 15/50\n",
      "670/670 [==============================] - 0s 12us/step - loss: 0.6185 - acc: 0.7030\n",
      "Epoch 16/50\n",
      "670/670 [==============================] - 0s 9us/step - loss: 0.6155 - acc: 0.7149\n",
      "Epoch 17/50\n",
      "670/670 [==============================] - 0s 14us/step - loss: 0.6126 - acc: 0.7224\n",
      "Epoch 18/50\n",
      "670/670 [==============================] - 0s 20us/step - loss: 0.6096 - acc: 0.7358\n",
      "Epoch 19/50\n",
      "670/670 [==============================] - 0s 13us/step - loss: 0.6068 - acc: 0.7463\n",
      "Epoch 20/50\n",
      "670/670 [==============================] - 0s 12us/step - loss: 0.6040 - acc: 0.7537\n",
      "Epoch 21/50\n",
      "670/670 [==============================] - 0s 24us/step - loss: 0.6013 - acc: 0.7716\n",
      "Epoch 22/50\n",
      "670/670 [==============================] - 0s 12us/step - loss: 0.5985 - acc: 0.7910\n",
      "Epoch 23/50\n",
      "670/670 [==============================] - 0s 12us/step - loss: 0.5958 - acc: 0.8060\n",
      "Epoch 24/50\n",
      "670/670 [==============================] - 0s 15us/step - loss: 0.5932 - acc: 0.8164\n",
      "Epoch 25/50\n",
      "670/670 [==============================] - 0s 12us/step - loss: 0.5905 - acc: 0.8284\n",
      "Epoch 26/50\n",
      "670/670 [==============================] - 0s 14us/step - loss: 0.5879 - acc: 0.8507\n",
      "Epoch 27/50\n",
      "670/670 [==============================] - 0s 25us/step - loss: 0.5854 - acc: 0.8567\n",
      "Epoch 28/50\n",
      "670/670 [==============================] - 0s 15us/step - loss: 0.5828 - acc: 0.8716\n",
      "Epoch 29/50\n",
      "670/670 [==============================] - 0s 17us/step - loss: 0.5803 - acc: 0.8866\n",
      "Epoch 30/50\n",
      "670/670 [==============================] - 0s 13us/step - loss: 0.5778 - acc: 0.8970\n",
      "Epoch 31/50\n",
      "670/670 [==============================] - 0s 15us/step - loss: 0.5754 - acc: 0.9060\n",
      "Epoch 32/50\n",
      "670/670 [==============================] - 0s 17us/step - loss: 0.5729 - acc: 0.9179\n",
      "Epoch 33/50\n",
      "670/670 [==============================] - 0s 17us/step - loss: 0.5705 - acc: 0.9224\n",
      "Epoch 34/50\n",
      "670/670 [==============================] - 0s 12us/step - loss: 0.5681 - acc: 0.9358\n",
      "Epoch 35/50\n",
      "670/670 [==============================] - 0s 20us/step - loss: 0.5657 - acc: 0.9403\n",
      "Epoch 36/50\n",
      "670/670 [==============================] - 0s 13us/step - loss: 0.5634 - acc: 0.9463\n",
      "Epoch 37/50\n",
      "670/670 [==============================] - 0s 11us/step - loss: 0.5610 - acc: 0.9478\n",
      "Epoch 38/50\n",
      "670/670 [==============================] - 0s 30us/step - loss: 0.5588 - acc: 0.9507\n",
      "Epoch 39/50\n",
      "670/670 [==============================] - 0s 14us/step - loss: 0.5564 - acc: 0.9522\n",
      "Epoch 40/50\n",
      "670/670 [==============================] - 0s 18us/step - loss: 0.5542 - acc: 0.9612\n",
      "Epoch 41/50\n",
      "670/670 [==============================] - 0s 9us/step - loss: 0.5519 - acc: 0.9642\n",
      "Epoch 42/50\n",
      "670/670 [==============================] - 0s 20us/step - loss: 0.5497 - acc: 0.9672\n",
      "Epoch 43/50\n",
      "670/670 [==============================] - 0s 18us/step - loss: 0.5474 - acc: 0.9687\n",
      "Epoch 44/50\n",
      "670/670 [==============================] - 0s 13us/step - loss: 0.5452 - acc: 0.9701\n",
      "Epoch 45/50\n",
      "670/670 [==============================] - 0s 11us/step - loss: 0.5430 - acc: 0.9701\n",
      "Epoch 46/50\n",
      "670/670 [==============================] - 0s 23us/step - loss: 0.5408 - acc: 0.9701\n",
      "Epoch 47/50\n",
      "670/670 [==============================] - 0s 18us/step - loss: 0.5386 - acc: 0.9701\n",
      "Epoch 48/50\n",
      "670/670 [==============================] - 0s 20us/step - loss: 0.5364 - acc: 0.9701\n",
      "Epoch 49/50\n",
      "670/670 [==============================] - 0s 17us/step - loss: 0.5343 - acc: 0.9716\n",
      "Epoch 50/50\n",
      "670/670 [==============================] - 0s 14us/step - loss: 0.5322 - acc: 0.9716\n"
     ]
    },
    {
     "data": {
      "text/plain": [
       "<keras.callbacks.History at 0x1350bf550>"
      ]
     },
     "execution_count": 102,
     "metadata": {},
     "output_type": "execute_result"
    }
   ],
   "source": [
    "model.fit(X_train, y_train, epochs=50, batch_size=200)"
   ]
  },
  {
   "cell_type": "code",
   "execution_count": 103,
   "metadata": {},
   "outputs": [
    {
     "name": "stdout",
     "output_type": "stream",
     "text": [
      "330/330 [==============================] - 0s 233us/step\n"
     ]
    },
    {
     "data": {
      "text/plain": [
       "[0.5444611849206866, 0.9848484848484849]"
      ]
     },
     "execution_count": 103,
     "metadata": {},
     "output_type": "execute_result"
    }
   ],
   "source": [
    "model.evaluate(X_test, y_test)"
   ]
  },
  {
   "cell_type": "code",
   "execution_count": 104,
   "metadata": {},
   "outputs": [
    {
     "data": {
      "text/plain": [
       "array([[4.2777192e-02, 9.5406872e-01, 2.2772318e-03, 8.7693235e-04]],\n",
       "      dtype=float32)"
      ]
     },
     "execution_count": 104,
     "metadata": {},
     "output_type": "execute_result"
    }
   ],
   "source": [
    "model.predict(X_test[:1])"
   ]
  },
  {
   "cell_type": "code",
   "execution_count": 105,
   "metadata": {},
   "outputs": [
    {
     "data": {
      "text/plain": [
       "matrix([[0., 1., 0., 0.]])"
      ]
     },
     "execution_count": 105,
     "metadata": {},
     "output_type": "execute_result"
    }
   ],
   "source": [
    "y_test[:1]"
   ]
  },
  {
   "cell_type": "code",
   "execution_count": 111,
   "metadata": {},
   "outputs": [
    {
     "name": "stdout",
     "output_type": "stream",
     "text": [
      "[master 1ba31a1] Lecture-13\n",
      " 2 files changed, 389 insertions(+)\n",
      " create mode 100644 lecture_13/.ipynb_checkpoints/keras-checkpoint.ipynb\n",
      " create mode 100644 lecture_13/keras.ipynb\n",
      "Enumerating objects: 6, done.\n",
      "Counting objects: 100% (6/6), done.\n",
      "Delta compression using up to 4 threads.\n",
      "Compressing objects: 100% (5/5), done.\n",
      "Writing objects: 100% (5/5), 21.87 KiB | 7.29 MiB/s, done.\n",
      "Total 5 (delta 1), reused 0 (delta 0)\n",
      "remote: Resolving deltas: 100% (1/1), completed with 1 local object.\u001b[K\n",
      "To https://github.com/coding-blocks-archives/ML-Noida-2019-June-Two.git\n",
      "   acb9bf6..1ba31a1  master -> master\n"
     ]
    }
   ],
   "source": [
    "! push \"Lecture-13\""
   ]
  },
  {
   "cell_type": "code",
   "execution_count": null,
   "metadata": {},
   "outputs": [],
   "source": []
  }
 ],
 "metadata": {
  "kernelspec": {
   "display_name": "Python 3",
   "language": "python",
   "name": "python3"
  },
  "language_info": {
   "codemirror_mode": {
    "name": "ipython",
    "version": 3
   },
   "file_extension": ".py",
   "mimetype": "text/x-python",
   "name": "python",
   "nbconvert_exporter": "python",
   "pygments_lexer": "ipython3",
   "version": "3.7.2"
  }
 },
 "nbformat": 4,
 "nbformat_minor": 2
}
