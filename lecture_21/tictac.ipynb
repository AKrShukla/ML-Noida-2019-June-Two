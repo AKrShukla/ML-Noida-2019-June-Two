{
 "cells": [
  {
   "cell_type": "code",
   "execution_count": 3,
   "metadata": {},
   "outputs": [],
   "source": [
    "import numpy as np\n",
    "import random"
   ]
  },
  {
   "cell_type": "code",
   "execution_count": 16,
   "metadata": {},
   "outputs": [],
   "source": [
    "class TicTac:\n",
    "    \n",
    "    def __init__(self):\n",
    "        \n",
    "        self.state_size = 10\n",
    "        self.action_size = 9\n",
    "        self.state = np.zeros([10], dtype=int)\n",
    "        self.state[9] = random.choice([-1, 1])\n",
    "        self.done = False\n",
    "        \n",
    "    def step(self, action):\n",
    "        player = self.state[9]\n",
    "        \n",
    "        if self.done:\n",
    "            return np.copy(self.state), -10, True, {}\n",
    "        \n",
    "        if self.state[action] != 0:\n",
    "            return np.copy(self.state), -10, False, {}\n",
    "        \n",
    "        self.state[action] = player\n",
    "        \n",
    "        done, reward = self.gen_reward()\n",
    "        self.done = done\n",
    "        self.state[9] = -player\n",
    "        \n",
    "        return np.copy(self.state), reward, done, {}\n",
    "        \n",
    "        \n",
    "    def gen_reward(self):\n",
    "        player = self.state[9]\n",
    "        board = self.state[:-1].reshape(3, 3)\n",
    "        \n",
    "        rows = np.any(np.sum(board, axis=1) == player * 3)\n",
    "        cols = np.any(np.sum(board, axis=0) == player * 3)\n",
    "        d1 = np.sum(self.state[[0, 4, 8]]) == player * 3\n",
    "        d2 = np.sum(self.state[[2, 4, 6]]) == player * 3\n",
    "   \n",
    "        if np.any([rows, cols, d1, d2]):\n",
    "            return True, 10\n",
    "        elif not np.any(self.state == 0):\n",
    "            return True, 1     \n",
    "        else:\n",
    "            return False, 1\n",
    "                "
   ]
  },
  {
   "cell_type": "code",
   "execution_count": 19,
   "metadata": {},
   "outputs": [],
   "source": [
    "env = TicTac()"
   ]
  },
  {
   "cell_type": "code",
   "execution_count": 25,
   "metadata": {},
   "outputs": [
    {
     "name": "stdout",
     "output_type": "stream",
     "text": [
      "[[ 1  1  1]\n",
      " [-1  0  0]\n",
      " [-1  0  0]] -1 10 True\n"
     ]
    }
   ],
   "source": [
    "state, reward, done, info = env.step(1)\n",
    "print(state[:-1].reshape(3, 3), state[-1], reward, done)"
   ]
  },
  {
   "cell_type": "code",
   "execution_count": 12,
   "metadata": {},
   "outputs": [],
   "source": [
    "ab = np.array([4, 6, 7, 8])"
   ]
  },
  {
   "cell_type": "code",
   "execution_count": 14,
   "metadata": {},
   "outputs": [
    {
     "data": {
      "text/plain": [
       "array([6, 7])"
      ]
     },
     "execution_count": 14,
     "metadata": {},
     "output_type": "execute_result"
    }
   ],
   "source": [
    "ab[[1, 2]]"
   ]
  },
  {
   "cell_type": "code",
   "execution_count": null,
   "metadata": {},
   "outputs": [],
   "source": []
  }
 ],
 "metadata": {
  "kernelspec": {
   "display_name": "Python 3",
   "language": "python",
   "name": "python3"
  },
  "language_info": {
   "codemirror_mode": {
    "name": "ipython",
    "version": 3
   },
   "file_extension": ".py",
   "mimetype": "text/x-python",
   "name": "python",
   "nbconvert_exporter": "python",
   "pygments_lexer": "ipython3",
   "version": "3.7.2"
  }
 },
 "nbformat": 4,
 "nbformat_minor": 2
}
