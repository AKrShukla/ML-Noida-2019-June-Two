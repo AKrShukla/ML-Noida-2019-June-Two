{
 "cells": [
  {
   "cell_type": "code",
   "execution_count": 1,
   "metadata": {},
   "outputs": [
    {
     "name": "stderr",
     "output_type": "stream",
     "text": [
      "Using TensorFlow backend.\n"
     ]
    }
   ],
   "source": [
    "import numpy as np\n",
    "import pandas as pd\n",
    "import matplotlib.pyplot as plt\n",
    "from sklearn.preprocessing import OneHotEncoder\n",
    "\n",
    "\n",
    "from keras.layers import Dense, Input, Dropout\n",
    "from keras.models import Model\n",
    "\n",
    "from sklearn.model_selection import train_test_split"
   ]
  },
  {
   "cell_type": "code",
   "execution_count": 2,
   "metadata": {},
   "outputs": [],
   "source": [
    "data = pd.read_csv(\"../datasets/mnist_train_small.csv\").values"
   ]
  },
  {
   "cell_type": "code",
   "execution_count": 3,
   "metadata": {},
   "outputs": [],
   "source": [
    "X = data[:, 2:]\n",
    "y = data[:, 1]"
   ]
  },
  {
   "cell_type": "code",
   "execution_count": 4,
   "metadata": {},
   "outputs": [],
   "source": [
    "ohe = OneHotEncoder(categories=\"auto\")"
   ]
  },
  {
   "cell_type": "code",
   "execution_count": 5,
   "metadata": {},
   "outputs": [],
   "source": [
    "y_hot = ohe.fit_transform(y.reshape(-1, 1)).todense()"
   ]
  },
  {
   "cell_type": "code",
   "execution_count": 6,
   "metadata": {},
   "outputs": [],
   "source": [
    "y_oe_hot = ohe.fit_transform((y % 2).reshape(-1, 1)).todense()"
   ]
  },
  {
   "cell_type": "code",
   "execution_count": null,
   "metadata": {},
   "outputs": [],
   "source": []
  },
  {
   "cell_type": "code",
   "execution_count": 46,
   "metadata": {},
   "outputs": [],
   "source": [
    "in_layer = Input(shape=[784], name=\"input\")\n",
    "dense_1 = Dense(200, activation=\"tanh\", name=\"1\")(in_layer)\n",
    "dense_21 = Dense(100, activation=\"tanh\", name=\"21\")(dense_1)\n",
    "dense_22 = Dense(100, activation=\"tanh\", name=\"22\")(dense_1)\n",
    "dense_31 = Dense(50, activation=\"tanh\", name=\"31\")(dense_21)\n",
    "dense_32 = Dense(50, activation=\"tanh\", name=\"32\")(dense_22)\n",
    "out1 = Dense(10, activation=\"softmax\", name=\"o1\")(dense_31)\n",
    "out2 = Dense(2, activation=\"softmax\", name=\"o2\")(dense_32)"
   ]
  },
  {
   "cell_type": "code",
   "execution_count": 47,
   "metadata": {},
   "outputs": [],
   "source": [
    "model = Model(inputs=[in_layer], outputs=[out1, out2])"
   ]
  },
  {
   "cell_type": "code",
   "execution_count": 48,
   "metadata": {},
   "outputs": [
    {
     "name": "stdout",
     "output_type": "stream",
     "text": [
      "__________________________________________________________________________________________________\n",
      "Layer (type)                    Output Shape         Param #     Connected to                     \n",
      "==================================================================================================\n",
      "input (InputLayer)              (None, 784)          0                                            \n",
      "__________________________________________________________________________________________________\n",
      "1 (Dense)                       (None, 200)          157000      input[0][0]                      \n",
      "__________________________________________________________________________________________________\n",
      "21 (Dense)                      (None, 100)          20100       1[0][0]                          \n",
      "__________________________________________________________________________________________________\n",
      "22 (Dense)                      (None, 100)          20100       1[0][0]                          \n",
      "__________________________________________________________________________________________________\n",
      "31 (Dense)                      (None, 50)           5050        21[0][0]                         \n",
      "__________________________________________________________________________________________________\n",
      "32 (Dense)                      (None, 50)           5050        22[0][0]                         \n",
      "__________________________________________________________________________________________________\n",
      "o1 (Dense)                      (None, 10)           510         31[0][0]                         \n",
      "__________________________________________________________________________________________________\n",
      "o2 (Dense)                      (None, 2)            102         32[0][0]                         \n",
      "==================================================================================================\n",
      "Total params: 207,912\n",
      "Trainable params: 207,912\n",
      "Non-trainable params: 0\n",
      "__________________________________________________________________________________________________\n"
     ]
    }
   ],
   "source": [
    "model.summary()"
   ]
  },
  {
   "cell_type": "code",
   "execution_count": 15,
   "metadata": {},
   "outputs": [],
   "source": [
    "model.compile(optimizer=\"adam\", loss=\"categorical_crossentropy\", metrics=[\"acc\"])"
   ]
  },
  {
   "cell_type": "code",
   "execution_count": 16,
   "metadata": {},
   "outputs": [
    {
     "name": "stdout",
     "output_type": "stream",
     "text": [
      "WARNING:tensorflow:From /usr/local/lib/python3.7/site-packages/tensorflow/python/ops/math_ops.py:3066: to_int32 (from tensorflow.python.ops.math_ops) is deprecated and will be removed in a future version.\n",
      "Instructions for updating:\n",
      "Use tf.cast instead.\n",
      "Epoch 1/20\n",
      "8000/8000 [==============================] - 1s 99us/step - loss: 1.6023 - dense_13_loss: 1.2116 - dense_14_loss: 0.3906 - dense_13_acc: 0.6349 - dense_14_acc: 0.8169\n",
      "Epoch 2/20\n",
      "8000/8000 [==============================] - 0s 42us/step - loss: 0.7943 - dense_13_loss: 0.5562 - dense_14_loss: 0.2381 - dense_13_acc: 0.8452 - dense_14_acc: 0.9046\n",
      "Epoch 3/20\n",
      "8000/8000 [==============================] - 0s 50us/step - loss: 0.6148 - dense_13_loss: 0.4190 - dense_14_loss: 0.1958 - dense_13_acc: 0.8843 - dense_14_acc: 0.9246\n",
      "Epoch 4/20\n",
      "8000/8000 [==============================] - 0s 51us/step - loss: 0.5330 - dense_13_loss: 0.3642 - dense_14_loss: 0.1687 - dense_13_acc: 0.8942 - dense_14_acc: 0.9365\n",
      "Epoch 5/20\n",
      "8000/8000 [==============================] - 0s 45us/step - loss: 0.5012 - dense_13_loss: 0.3417 - dense_14_loss: 0.1595 - dense_13_acc: 0.8957 - dense_14_acc: 0.9385\n",
      "Epoch 6/20\n",
      "8000/8000 [==============================] - 0s 40us/step - loss: 0.4489 - dense_13_loss: 0.3091 - dense_14_loss: 0.1398 - dense_13_acc: 0.9081 - dense_14_acc: 0.9471\n",
      "Epoch 7/20\n",
      "8000/8000 [==============================] - 0s 46us/step - loss: 0.4291 - dense_13_loss: 0.2985 - dense_14_loss: 0.1306 - dense_13_acc: 0.9115 - dense_14_acc: 0.9515\n",
      "Epoch 8/20\n",
      "8000/8000 [==============================] - 0s 53us/step - loss: 0.4251 - dense_13_loss: 0.2875 - dense_14_loss: 0.1376 - dense_13_acc: 0.9140 - dense_14_acc: 0.9479\n",
      "Epoch 9/20\n",
      "8000/8000 [==============================] - 0s 45us/step - loss: 0.4253 - dense_13_loss: 0.2930 - dense_14_loss: 0.1323 - dense_13_acc: 0.9089 - dense_14_acc: 0.9504\n",
      "Epoch 10/20\n",
      "8000/8000 [==============================] - 0s 44us/step - loss: 0.3963 - dense_13_loss: 0.2727 - dense_14_loss: 0.1236 - dense_13_acc: 0.9136 - dense_14_acc: 0.9547\n",
      "Epoch 11/20\n",
      "8000/8000 [==============================] - 0s 53us/step - loss: 0.3918 - dense_13_loss: 0.2583 - dense_14_loss: 0.1335 - dense_13_acc: 0.9200 - dense_14_acc: 0.9491\n",
      "Epoch 12/20\n",
      "8000/8000 [==============================] - 0s 52us/step - loss: 0.3904 - dense_13_loss: 0.2681 - dense_14_loss: 0.1223 - dense_13_acc: 0.9171 - dense_14_acc: 0.9526\n",
      "Epoch 13/20\n",
      "8000/8000 [==============================] - 0s 50us/step - loss: 0.3644 - dense_13_loss: 0.2551 - dense_14_loss: 0.1093 - dense_13_acc: 0.9191 - dense_14_acc: 0.9597\n",
      "Epoch 14/20\n",
      "8000/8000 [==============================] - 0s 48us/step - loss: 0.3528 - dense_13_loss: 0.2426 - dense_14_loss: 0.1102 - dense_13_acc: 0.9229 - dense_14_acc: 0.9602\n",
      "Epoch 15/20\n",
      "8000/8000 [==============================] - 0s 52us/step - loss: 0.3375 - dense_13_loss: 0.2324 - dense_14_loss: 0.1051 - dense_13_acc: 0.9285 - dense_14_acc: 0.9606\n",
      "Epoch 16/20\n",
      "8000/8000 [==============================] - 0s 51us/step - loss: 0.3321 - dense_13_loss: 0.2247 - dense_14_loss: 0.1074 - dense_13_acc: 0.9323 - dense_14_acc: 0.9605\n",
      "Epoch 17/20\n",
      "8000/8000 [==============================] - 0s 50us/step - loss: 0.3254 - dense_13_loss: 0.2225 - dense_14_loss: 0.1029 - dense_13_acc: 0.9281 - dense_14_acc: 0.9607\n",
      "Epoch 18/20\n",
      "8000/8000 [==============================] - 0s 48us/step - loss: 0.3312 - dense_13_loss: 0.2259 - dense_14_loss: 0.1053 - dense_13_acc: 0.9292 - dense_14_acc: 0.9617\n",
      "Epoch 19/20\n",
      "8000/8000 [==============================] - 0s 51us/step - loss: 0.3100 - dense_13_loss: 0.2122 - dense_14_loss: 0.0977 - dense_13_acc: 0.9336 - dense_14_acc: 0.9658\n",
      "Epoch 20/20\n",
      "8000/8000 [==============================] - 0s 49us/step - loss: 0.3154 - dense_13_loss: 0.2176 - dense_14_loss: 0.0978 - dense_13_acc: 0.9313 - dense_14_acc: 0.9639\n"
     ]
    }
   ],
   "source": [
    "hist = model.fit(X, [y_hot, y_oe_hot], epochs=20, batch_size=200)"
   ]
  },
  {
   "cell_type": "code",
   "execution_count": 18,
   "metadata": {},
   "outputs": [
    {
     "name": "stdout",
     "output_type": "stream",
     "text": [
      "8000/8000 [==============================] - 0s 38us/step\n"
     ]
    },
    {
     "data": {
      "text/plain": [
       "[0.2957042500674725, 0.20623761151731015, 0.08946663939952851, 0.93625, 0.9685]"
      ]
     },
     "execution_count": 18,
     "metadata": {},
     "output_type": "execute_result"
    }
   ],
   "source": [
    "model.evaluate(X, [y_hot, y_oe_hot])"
   ]
  },
  {
   "cell_type": "code",
   "execution_count": 95,
   "metadata": {},
   "outputs": [
    {
     "data": {
      "text/plain": [
       "[<matplotlib.lines.Line2D at 0x1340d1160>]"
      ]
     },
     "execution_count": 95,
     "metadata": {},
     "output_type": "execute_result"
    },
    {
     "data": {
      "image/png": "[encoded data removed]",
      "text/plain": [
       "<Figure size 432x288 with 1 Axes>"
      ]
     },
     "metadata": {
      "needs_background": "light"
     },
     "output_type": "display_data"
    }
   ],
   "source": [
    "plt.plot(hist.history[\"acc\"])"
   ]
  },
  {
   "cell_type": "code",
   "execution_count": 96,
   "metadata": {},
   "outputs": [],
   "source": [
    "m2 = Model(inputs=[in_layer], outputs=[out])"
   ]
  },
  {
   "cell_type": "code",
   "execution_count": 97,
   "metadata": {},
   "outputs": [],
   "source": [
    "m2.compile(optimizer=\"adam\", loss=\"categorical_crossentropy\", metrics=[\"acc\"])"
   ]
  },
  {
   "cell_type": "code",
   "execution_count": 98,
   "metadata": {},
   "outputs": [
    {
     "name": "stdout",
     "output_type": "stream",
     "text": [
      "2640/2640 [==============================] - 0s 152us/step\n"
     ]
    },
    {
     "data": {
      "text/plain": [
       "[0.30848723076509704, 0.9090909090909091]"
      ]
     },
     "execution_count": 98,
     "metadata": {},
     "output_type": "execute_result"
    }
   ],
   "source": [
    "m2.evaluate(X_test, y_test)"
   ]
  },
  {
   "cell_type": "code",
   "execution_count": 99,
   "metadata": {},
   "outputs": [
    {
     "name": "stdout",
     "output_type": "stream",
     "text": [
      "[master 2a038f2] l 14\n",
      " 1 file changed, 151 insertions(+), 4 deletions(-)\n",
      "Enumerating objects: 7, done.\n",
      "Counting objects: 100% (7/7), done.\n",
      "Delta compression using up to 4 threads.\n",
      "Compressing objects: 100% (4/4), done.\n",
      "Writing objects: 100% (4/4), 7.85 KiB | 7.85 MiB/s, done.\n",
      "Total 4 (delta 3), reused 0 (delta 0)\n",
      "remote: Resolving deltas: 100% (3/3), completed with 3 local objects.\u001b[K\n",
      "To https://github.com/coding-blocks-archives/ML-Noida-2019-June-Two.git\n",
      "   b14b699..2a038f2  master -> master\n"
     ]
    }
   ],
   "source": [
    "!push \"l 14\""
   ]
  },
  {
   "cell_type": "code",
   "execution_count": 30,
   "metadata": {},
   "outputs": [],
   "source": [
    "import cv2"
   ]
  },
  {
   "cell_type": "code",
   "execution_count": 40,
   "metadata": {},
   "outputs": [
    {
     "data": {
      "text/plain": [
       "<matplotlib.image.AxesImage at 0x128aea358>"
      ]
     },
     "execution_count": 40,
     "metadata": {},
     "output_type": "execute_result"
    },
    {
     "data": {
      "image/png": "[encoded data removed]",
      "text/plain": [
       "<Figure size 432x288 with 1 Axes>"
      ]
     },
     "metadata": {
      "needs_background": "light"
     },
     "output_type": "display_data"
    }
   ],
   "source": [
    "img = cv2.imread(\"../datasets/nums/three.jpeg\")\n",
    "gray = cv2.cvtColor(img, cv2.COLOR_BGR2GRAY)\n",
    "small = cv2.resize(gray, (28, 28))\n",
    "invert = (small < 100).astype(int) * 255\n",
    "plt.imshow(invert, cmap=\"gray\")"
   ]
  },
  {
   "cell_type": "code",
   "execution_count": 44,
   "metadata": {},
   "outputs": [
    {
     "data": {
      "text/plain": [
       "[array([[3.6575264e-05, 1.1161515e-02, 4.1064318e-02, 7.3630852e-01,\n",
       "         2.0327792e-03, 1.5706311e-03, 3.6761323e-03, 5.7077043e-02,\n",
       "         6.8405181e-02, 7.8667343e-02]], dtype=float32),\n",
       " array([[0.2770844 , 0.72291553]], dtype=float32)]"
      ]
     },
     "execution_count": 44,
     "metadata": {},
     "output_type": "execute_result"
    }
   ],
   "source": [
    "model.predict(np.array([invert.flatten()]))"
   ]
  },
  {
   "cell_type": "code",
   "execution_count": 42,
   "metadata": {},
   "outputs": [
    {
     "data": {
      "text/plain": [
       "array([[0, 1]])"
      ]
     },
     "execution_count": 42,
     "metadata": {},
     "output_type": "execute_result"
    }
   ],
   "source": [
    "np.argsort(model.predict(np.array([invert.flatten()]))[1], axis=1)"
   ]
  },
  {
   "cell_type": "code",
   "execution_count": 71,
   "metadata": {},
   "outputs": [
    {
     "data": {
      "text/plain": [
       "<matplotlib.image.AxesImage at 0x1409e3f98>"
      ]
     },
     "execution_count": 71,
     "metadata": {},
     "output_type": "execute_result"
    },
    {
     "data": {
      "image/png": "[encoded data removed]",
      "text/plain": [
       "<Figure size 432x288 with 1 Axes>"
      ]
     },
     "metadata": {
      "needs_background": "light"
     },
     "output_type": "display_data"
    }
   ],
   "source": []
  },
  {
   "cell_type": "code",
   "execution_count": 19,
   "metadata": {},
   "outputs": [
    {
     "data": {
      "text/plain": [
       "{'loss': [1.6022592902183532,\n",
       "  0.7942520260810852,\n",
       "  0.6148224756121635,\n",
       "  0.5329664349555969,\n",
       "  0.5011713154613971,\n",
       "  0.44885263293981553,\n",
       "  0.4291425056755543,\n",
       "  0.42512485161423685,\n",
       "  0.42531693875789645,\n",
       "  0.3962783917784691,\n",
       "  0.3917501702904701,\n",
       "  0.39040204845368864,\n",
       "  0.36439042575657365,\n",
       "  0.3528088998049498,\n",
       "  0.33753792829811574,\n",
       "  0.33209296576678754,\n",
       "  0.32536632046103475,\n",
       "  0.3312247548252344,\n",
       "  0.3099793329834938,\n",
       "  0.3153680432587862],\n",
       " 'dense_13_loss': [1.2116095185279847,\n",
       "  0.5561518333852291,\n",
       "  0.419024670124054,\n",
       "  0.3642256557941437,\n",
       "  0.34167003631591797,\n",
       "  0.3090803060680628,\n",
       "  0.29850800186395643,\n",
       "  0.28749289847910403,\n",
       "  0.2930367451161146,\n",
       "  0.27265078462660314,\n",
       "  0.2582678012549877,\n",
       "  0.26813033409416676,\n",
       "  0.2550588320940733,\n",
       "  0.2425862293690443,\n",
       "  0.23239002227783204,\n",
       "  0.22467496171593665,\n",
       "  0.22251169867813586,\n",
       "  0.22589131593704223,\n",
       "  0.21222985535860062,\n",
       "  0.21756733786314725],\n",
       " 'dense_14_loss': [0.3906497672200203,\n",
       "  0.238100191578269,\n",
       "  0.19579780660569668,\n",
       "  0.16874077618122102,\n",
       "  0.15950128212571144,\n",
       "  0.13977232705801726,\n",
       "  0.13063450176268815,\n",
       "  0.13763195388019084,\n",
       "  0.13228019326925278,\n",
       "  0.12362760715186596,\n",
       "  0.13348237052559853,\n",
       "  0.1222717166878283,\n",
       "  0.10933159496635199,\n",
       "  0.11022267108783126,\n",
       "  0.10514790890738368,\n",
       "  0.10741800349205732,\n",
       "  0.10285462057217956,\n",
       "  0.1053334423340857,\n",
       "  0.09774947538971901,\n",
       "  0.09780070632696151],\n",
       " 'dense_13_acc': [0.6348750056698919,\n",
       "  0.8452499970793724,\n",
       "  0.8842500030994416,\n",
       "  0.8942499935626984,\n",
       "  0.8957499966025353,\n",
       "  0.9081249937415123,\n",
       "  0.9115000024437905,\n",
       "  0.9139999985694885,\n",
       "  0.9088750034570694,\n",
       "  0.9136249974370003,\n",
       "  0.9200000002980232,\n",
       "  0.9171250015497208,\n",
       "  0.9191249996423722,\n",
       "  0.9228750035166741,\n",
       "  0.9285000026226043,\n",
       "  0.932250002026558,\n",
       "  0.9281250044703484,\n",
       "  0.9292499989271163,\n",
       "  0.9336249977350235,\n",
       "  0.9312500044703483],\n",
       " 'dense_14_acc': [0.816874998062849,\n",
       "  0.9046249955892562,\n",
       "  0.9246250003576278,\n",
       "  0.9364999949932098,\n",
       "  0.9384999990463256,\n",
       "  0.9471249923110008,\n",
       "  0.9514999911189079,\n",
       "  0.9478749990463257,\n",
       "  0.9503749951720237,\n",
       "  0.9547499895095826,\n",
       "  0.9491249963641166,\n",
       "  0.9526249945163727,\n",
       "  0.9597499966621399,\n",
       "  0.9602499976754189,\n",
       "  0.9606249973177909,\n",
       "  0.960499994456768,\n",
       "  0.9607499957084655,\n",
       "  0.9617499962449074,\n",
       "  0.9657500013709068,\n",
       "  0.9638749971985817]}"
      ]
     },
     "execution_count": 19,
     "metadata": {},
     "output_type": "execute_result"
    }
   ],
   "source": [
    "hist.history"
   ]
  },
  {
   "cell_type": "code",
   "execution_count": 85,
   "metadata": {},
   "outputs": [],
   "source": [
    "Dropout?"
   ]
  },
  {
   "cell_type": "code",
   "execution_count": 20,
   "metadata": {},
   "outputs": [],
   "source": [
    "one = np.array([1, 2, 3, 4, 5])"
   ]
  },
  {
   "cell_type": "code",
   "execution_count": 21,
   "metadata": {},
   "outputs": [],
   "source": [
    "two = np.array([10, 20, 30, 40, 50])"
   ]
  },
  {
   "cell_type": "code",
   "execution_count": 26,
   "metadata": {},
   "outputs": [
    {
     "data": {
      "text/plain": [
       "array([False,  True, False,  True, False])"
      ]
     },
     "execution_count": 26,
     "metadata": {},
     "output_type": "execute_result"
    }
   ],
   "source": [
    "(one % 2) == 0"
   ]
  },
  {
   "cell_type": "code",
   "execution_count": 25,
   "metadata": {},
   "outputs": [
    {
     "data": {
      "text/plain": [
       "array([20, 40, 50])"
      ]
     },
     "execution_count": 25,
     "metadata": {},
     "output_type": "execute_result"
    }
   ],
   "source": [
    "two[np.array([False, True, False, True, True])]"
   ]
  },
  {
   "cell_type": "code",
   "execution_count": 45,
   "metadata": {},
   "outputs": [],
   "source": [
    "Dense?"
   ]
  },
  {
   "cell_type": "code",
   "execution_count": null,
   "metadata": {},
   "outputs": [],
   "source": []
  }
 ],
 "metadata": {
  "kernelspec": {
   "display_name": "Python 3",
   "language": "python",
   "name": "python3"
  },
  "language_info": {
   "codemirror_mode": {
    "name": "ipython",
    "version": 3
   },
   "file_extension": ".py",
   "mimetype": "text/x-python",
   "name": "python",
   "nbconvert_exporter": "python",
   "pygments_lexer": "ipython3",
   "version": "3.7.2"
  }
 },
 "nbformat": 4,
 "nbformat_minor": 2
}
